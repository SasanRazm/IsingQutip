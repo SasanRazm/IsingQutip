{
 "cells": [
  {
   "attachments": {},
   "cell_type": "markdown",
   "metadata": {},
   "source": [
    "# Defining the general form functions"
   ]
  },
  {
   "attachments": {},
   "cell_type": "markdown",
   "metadata": {},
   "source": [
    "### Creating the tiles based on the input external field values of JPOs"
   ]
  },
  {
   "cell_type": "code",
   "execution_count": 5,
   "metadata": {},
   "outputs": [],
   "source": [
    "import numpy as np\n",
    "import qutip as qt\n",
    "import matplotlib.pyplot as plt\n",
    "\n",
    "def create_sub_vectors(h_values):\n",
    "    N = len(h_values) \n",
    "    nodeCnt = int((np.sqrt(8*N + 17) - 1) / 2)  # Calculate N from the array size\n",
    "    h_indices = range(N)\n",
    "    \n",
    "    # Putting fix JPOs inside the subvector\n",
    "    sub_vector = h_indices[0 :  nodeCnt - 2]\n",
    "    sub_vectors = []\n",
    "    \n",
    "    coupler_indices = []\n",
    "    sub_vectors.append(sub_vector)\n",
    "\n",
    "    start_index = nodeCnt -2\n",
    "    for size in range(nodeCnt-1, 0, -1):\n",
    "        sub_vector = h_indices[start_index : start_index + size]\n",
    "        sub_vectors.append(sub_vector)\n",
    "        start_index += size\n",
    "\n",
    "    for subCnt in range(nodeCnt-2):\n",
    "        coupler_indice = []\n",
    "        for subCnt2 in range(nodeCnt-2-subCnt):\n",
    "            #print(\"index1: \",subCnt, \"index2: \",subCnt2)\n",
    "            if subCnt==0:\n",
    "                couplerIndexes = np.array([sub_vectors[subCnt][subCnt2], sub_vectors[subCnt+1][subCnt2], sub_vectors[subCnt+1][subCnt2+1], sub_vectors[subCnt+2][subCnt2]])\n",
    "            else:\n",
    "                couplerIndexes = np.array([sub_vectors[subCnt][subCnt2+1], sub_vectors[subCnt+1][subCnt2], sub_vectors[subCnt+1][subCnt2+1], sub_vectors[subCnt+2][subCnt2]])\n",
    "\n",
    "            coupler_indice.append(couplerIndexes)\n",
    "        coupler_indices.append(coupler_indice)\n",
    "\n",
    "    return coupler_indices"
   ]
  },
  {
   "attachments": {},
   "cell_type": "markdown",
   "metadata": {},
   "source": [
    "### Print the output indices for the LHZ pyramid"
   ]
  },
  {
   "cell_type": "code",
   "execution_count": 6,
   "metadata": {},
   "outputs": [],
   "source": [
    "def print_pyramid(array):\n",
    "    pyramid_height = len(array)\n",
    "\n",
    "    for i in range(pyramid_height - 1, -1, -1): \n",
    "        for j in range(len(array[i])):\n",
    "            print(\"{ \", end=\"\")\n",
    "            for k in range(len(array[i][j])):\n",
    "\n",
    "                print(array[i][j][k], end=\" \")\n",
    "            print(\"}\", end=\" \")\n",
    "        \n",
    "        print()"
   ]
  },
  {
   "attachments": {},
   "cell_type": "markdown",
   "metadata": {},
   "source": [
    "### Draw LHZ structure based on the external fields and interactions"
   ]
  },
  {
   "cell_type": "code",
   "execution_count": 7,
   "metadata": {},
   "outputs": [
    {
     "name": "stdout",
     "output_type": "stream",
     "text": [
      "N =  4\n",
      "\n",
      "   -0.1\n",
      " /    \\\n",
      "-0.1   1  -0.1\n",
      "\n",
      "0.1\n",
      "\n",
      " \\    / \\    /\n",
      "  0.1    0.1  \n"
     ]
    }
   ],
   "source": [
    "def draw_LHZ(J_values, h_values):\n",
    "    pyramid_nodes = len(h_values)\n",
    "    nodeCnt = int((np.sqrt(8*pyramid_nodes + 17) - 1) / 2)\n",
    "    pyramid_base = h_values[0:nodeCnt-2]\n",
    "\n",
    "    print(\"N = \", nodeCnt)\n",
    "    print()\n",
    "\n",
    "    k = nodeCnt-2\n",
    "    print(\"  \", h_values[len(h_values)-1])\n",
    "    print(\" /\",\"   \\\\\")\n",
    "\n",
    "    for i in range(2, nodeCnt-1):\n",
    "        for j in range(i-1):\n",
    "            print(h_values[k+j] ,\" \", J_values[j], \" \", end='')\n",
    "        print(h_values[k+j+1])\n",
    "\n",
    "        print()\n",
    "\n",
    "\n",
    "    for i in range(1,nodeCnt-2):\n",
    "        print(h_values[i])\n",
    "    print()\n",
    "    for p in range(len(pyramid_base)):\n",
    "        print(\" \\\\\",\"   /\",end='')\n",
    "    print()\n",
    "    for p in range(len(pyramid_base)):\n",
    "        print(\" \",h_values[p],\" \",end='')\n",
    "    print()\n",
    "\n",
    "        \n",
    "    \n",
    "J_values = np.array([1, 1, 1]) # Coupling strength\n",
    "h_values = np.array([0.1, 0.1, -0.1, -0.1, -0.1, 0.1, 0.1, -0.1])  # Magnetic field strengths\n",
    "draw_LHZ(J_values, h_values)"
   ]
  },
  {
   "attachments": {},
   "cell_type": "markdown",
   "metadata": {},
   "source": [
    "### Calculate the LHZ Hamiltonian based on quadratic equations"
   ]
  },
  {
   "cell_type": "code",
   "execution_count": 8,
   "metadata": {},
   "outputs": [],
   "source": [
    "def calc_LHZ_Ham(J_values, h_values, coupler_indices):\n",
    "    N = len(h_values)  # Number of spins\n",
    "    JPOCnt = N\n",
    "    nodeCnt = (np.sqrt(8*N + 17) - 1) / 2\n",
    "    CouplerCnt = int(((nodeCnt - 1) * (nodeCnt - 2)) / 2)\n",
    "\n",
    "    print(\"Number of JPOs & couplers: \" ,JPOCnt, \" & \", CouplerCnt)\n",
    "    print(\"\")\n",
    "\n",
    "    # Create the spin operators for N spins\n",
    "    spin_operators = [qt.sigmaz() for _ in range(N)]\n",
    "    spin_interactors = [qt.sigmaz() for _ in range(N)]\n",
    "\n",
    "    # Create the Hamiltonian for the Ising model in one tile\n",
    "    Imatrix = qt.qeye(2)\n",
    "    H = qt.Qobj()\n",
    "    H_interaction = [qt.Qobj() for _ in range(CouplerCnt)]\n",
    "    Htot = qt.Qobj()\n",
    "\n",
    "    # Create the single-spin term in the Hamiltonian\n",
    "    for i in range(N):\n",
    "        spin_temp= [Imatrix for _ in range(N)]\n",
    "        spin_temp[i] = spin_operators[i]\n",
    "        spin_kronecker = qt.tensor(spin_temp)\n",
    "        H += h_values[i] * spin_kronecker\n",
    "\n",
    "    Hcntr = 0\n",
    "    # Create the interaction terms in the Hamiltonian\n",
    "    for i in range(len(coupler_indices)):\n",
    "        for j in range(len(coupler_indices[i])):\n",
    "            interact_temp = [Imatrix] * N\n",
    "            for k in range(len(coupler_indices[i][j])):\n",
    "                interact_temp[coupler_indices[i][j][k]] = spin_interactors[coupler_indices[i][j][k]]\n",
    "\n",
    "            interact_kronecker = qt.tensor(interact_temp)\n",
    "            H_interaction[Hcntr] = -1*J_values[Hcntr] * interact_kronecker\n",
    "            Hcntr = Hcntr + 1\n",
    "    \n",
    "    #print(\"H cntr check:\", Hcntr)\n",
    "    \n",
    "    if N > 1:\n",
    "        Htot = H + sum(H_interaction)\n",
    "    else:\n",
    "        Htot = H\n",
    "\n",
    "    stateSize = 2 ** len(h_values)\n",
    "    print(\"Hamiltonian matrix size:\", stateSize,\" X \" , stateSize)\n",
    "\n",
    "    return Htot\n"
   ]
  },
  {
   "attachments": {},
   "cell_type": "markdown",
   "metadata": {},
   "source": [
    "### Plot the minimum states and their energies "
   ]
  },
  {
   "cell_type": "code",
   "execution_count": 9,
   "metadata": {},
   "outputs": [],
   "source": [
    "def show_states(energies, tempstates, nodeCnt):\n",
    "    fig = plt.figure()\n",
    "    ax = fig.add_axes([0.1, 0.1, 0.9, 0.9])\n",
    "\n",
    "    ax.plot(tempstates, energies)\n",
    "    #for j in tempstates:\n",
    "    #    binary_labels.append(format(j, '0{length}b'.format(length=nodeCnt)))\n",
    "\n",
    "       \n",
    "    binary_labels = [bin(val)[2:] for val in tempstates]\n",
    "    ax.set_xlabel('States')\n",
    "    ax.set_xticks(tempstates)\n",
    "    ax.set_xticklabels(binary_labels)\n",
    "    ax.set_ylabel('Energy')\n",
    "    ax.grid()\n",
    "    plt.xticks(rotation=90,fontsize=6)\n",
    "    \n",
    "    #dpi = 300\n",
    "    #plt.savefig('states.png', dpi=dpi)\n",
    "\n",
    "    plt.show()"
   ]
  },
  {
   "attachments": {},
   "cell_type": "markdown",
   "metadata": {},
   "source": [
    "### Find the repeated states and remove them from answers"
   ]
  },
  {
   "cell_type": "code",
   "execution_count": 10,
   "metadata": {},
   "outputs": [],
   "source": [
    "def find_repeated_values(vector):\n",
    "    unique_values, counts = np.unique(vector, return_counts=True)\n",
    "    repeated_values = unique_values[counts > 1]\n",
    "    indices_array = [np.where(vector == value)[0] for value in repeated_values]\n",
    "    \n",
    "    return repeated_values, indices_array"
   ]
  },
  {
   "attachments": {},
   "cell_type": "markdown",
   "metadata": {},
   "source": [
    "### Check the validity condition of LHZ. The number of ones in the plaquette should be even"
   ]
  },
  {
   "cell_type": "code",
   "execution_count": 11,
   "metadata": {},
   "outputs": [],
   "source": [
    "def LHZ_validity_check(minima_indices, coupler_indices):\n",
    "    \n",
    "    nodeCnt = len(coupler_indices[0]) + 2\n",
    "    JPO_num = int((nodeCnt * (nodeCnt - 1)) /2 + nodeCnt - 2)\n",
    "\n",
    "    # Calculating where the last row is fixed\n",
    "    fixStateVal = 0\n",
    "    for fcntr in range(len(coupler_indices[0])):\n",
    "        fixStateVal += int(2**coupler_indices[0][fcntr][0])\n",
    "    \n",
    "    unique_set = set(minima_indices)\n",
    "    unique_array = list(unique_set)\n",
    "    binary_minima_state = []\n",
    "\n",
    "    valid_states_num = 0\n",
    "    tempval2 = \"\"\n",
    "    for j in unique_array:\n",
    "        \n",
    "        compare_val = fixStateVal & j\n",
    "        if compare_val == fixStateVal:\n",
    "            tempval = format(j, '0{length}b'.format(length=JPO_num))\n",
    "            binary_minima_state.append(tempval)\n",
    "\n",
    "            for l in range(len(coupler_indices)):\n",
    "                for m in range(len(coupler_indices[l])):\n",
    "                    temp_validity = 0\n",
    "                    for n in range(len(coupler_indices[l][m])):\n",
    "                        temp_validity += int(tempval[coupler_indices[l][m][n]])\n",
    "                    \n",
    "                    if (temp_validity % 2 == 0) & (tempval2 != tempval):\n",
    "                        valid_states_num += 1\n",
    "                        #print(\"Valid state = \", tempval)\n",
    "                        tempval2 = tempval\n",
    "\n",
    "\n",
    "    valid_percentage = 100 * valid_states_num / len(binary_minima_state)\n",
    "    \n",
    "    return valid_percentage"
   ]
  },
  {
   "attachments": {},
   "cell_type": "markdown",
   "metadata": {},
   "source": [
    "### calculate the output state of the system and generate the answer states"
   ]
  },
  {
   "cell_type": "code",
   "execution_count": 12,
   "metadata": {},
   "outputs": [],
   "source": [
    "def correct_state_evaluation(h_values, HamiltonVal, coupler_indices):\n",
    "    statesVal = []\n",
    "    stateSize = 2 ** len(h_values)\n",
    "    nodeCnt = len(coupler_indices[0]) + 2\n",
    "\n",
    "    state = []\n",
    "    for _ in range(nodeCnt):\n",
    "        state.append(True)\n",
    "\n",
    "    for i in range(stateSize):\n",
    "        ket1 = qt.basis(stateSize, i)  # input ket calculation\n",
    "        statesVal.append(HamiltonVal.matrix_element(ket1,ket1))\n",
    "\n",
    "    vector = np.real(statesVal)\n",
    "    \n",
    "    #modify the vector to get the energy\n",
    "    #vectest = np.real(state)\n",
    "    #vectortemp = np.abs(statesVal)\n",
    "    #vector = vectortemp\n",
    "    #for i in range(len(vectest)):\n",
    "    #    if vectest[i] < 0:\n",
    "    #      vector[i] = -1 * vectortemp[i]\n",
    "    \n",
    "\n",
    "    local_minima = np.r_[True, vector[1:] < vector[:-1]] & np.r_[vector[:-1] < vector[1:], True]\n",
    "\n",
    "    minima_indices = np.where(local_minima)[0]\n",
    "\n",
    "    tempstates = []\n",
    "    minima_indice_vals = []\n",
    "\n",
    "    bitFlipIndice = 0\n",
    "\n",
    "    # Calculating where the last row is fixed\n",
    "    fixStateVal = 0\n",
    "    for fcntr in range(len(coupler_indices[0])):\n",
    "        fixStateVal += int(2**coupler_indices[0][fcntr][0])\n",
    "\n",
    "    for j in range(len(minima_indices)):\n",
    "        # Perform bitwise logical AND operation\n",
    "        result = minima_indices[j] & fixStateVal\n",
    "\n",
    "        tempState = 0\n",
    "        tempRevState = 0\n",
    "        #& (vector[minima_indices[j]] < -10):\n",
    "        if (result == fixStateVal):\n",
    "            \n",
    "            bitFlipIndice = 2**coupler_indices[0][0][1]\n",
    "            \n",
    "            if (int(minima_indices[j]/bitFlipIndice)%2 == 0):\n",
    "                state[1] = not state[0]\n",
    "            else:\n",
    "                state[1] = state[0]\n",
    "\n",
    "            for i in range(2, nodeCnt):\n",
    "                bitFlipIndice = 2**coupler_indices[0][i-2][2]\n",
    "                if (int(minima_indices[j]/bitFlipIndice)%2 == 0):\n",
    "                    state[i] = not state[i-1]\n",
    "                else:\n",
    "                    state[i] = state[i-1]\n",
    "\n",
    "            for k in range(nodeCnt):\n",
    "                tempState += int(state[k]) * (2**k)\n",
    "                tempRevState += int((not state[k])) * (2**k)\n",
    "\n",
    "            tempstates.append(tempState)\n",
    "            minima_indice_vals.append(minima_indices[j])\n",
    "            #tempstates.append(tempRevState)\n",
    "\n",
    "    repeated_values, indices_array = find_repeated_values(tempstates)\n",
    "\n",
    "    tempstates = []\n",
    "    energies = []\n",
    "\n",
    "    for i in range(len(repeated_values)):\n",
    "        \n",
    "        tempstates.append(repeated_values[i])\n",
    "        \n",
    "        tempenergy = 0\n",
    "        for j in range(len(indices_array[i])):\n",
    "            tempenergy += vector[minima_indice_vals[j]]\n",
    "        \n",
    "        energies.append(tempenergy)\n",
    "\n",
    "    tempstates2 = np.array(tempstates)\n",
    "\n",
    "    val_percentage = LHZ_validity_check(minima_indices, coupler_indices)\n",
    "    print(\"Validity percentage: \", val_percentage, \"%\")\n",
    "\n",
    "    binary_string = []\n",
    "\n",
    "    for j in tempstates2:\n",
    "        binary_string.append(format(j, '0{length}b'.format(length=nodeCnt)))\n",
    "\n",
    "    #Plot states\n",
    "    show_states(energies, tempstates2, nodeCnt)\n",
    "\n",
    "    return(binary_string)"
   ]
  },
  {
   "attachments": {},
   "cell_type": "markdown",
   "metadata": {},
   "source": [
    "### Testing LHZ Ising machine code"
   ]
  },
  {
   "cell_type": "code",
   "execution_count": 13,
   "metadata": {},
   "outputs": [
    {
     "name": "stdout",
     "output_type": "stream",
     "text": [
      "{ 3 5 6 7 } \n",
      "{ 0 2 3 5 } { 1 3 4 6 } \n",
      "\n",
      "Number of JPOs & couplers:  8  &  3\n",
      "\n",
      "Hamiltonian matrix size: 256  X  256\n",
      "Validity percentage:  100.0 %\n"
     ]
    },
    {
     "data": {
      "image/png": "[encoded data removed]",
      "text/plain": [
       "<Figure size 640x480 with 1 Axes>"
      ]
     },
     "metadata": {},
     "output_type": "display_data"
    },
    {
     "name": "stdout",
     "output_type": "stream",
     "text": [
      "The correct states: 4\n",
      "['0011', '0101', '1001', '1111']\n"
     ]
    }
   ],
   "source": [
    "# 3-node example\n",
    "#J_values = np.array([-10]) # Coupling strength\n",
    "#h_values = np.array([0.1, -0.1, 0.1, -0.1])  # Magnetic field strengths\n",
    "\n",
    "# 4-node example\n",
    "J_values = np.array([1, 1, 2])*1 # Coupling strength\n",
    "h_values = np.array([0.1, 0.1, 0.1, 0.1, 0.1, 0.1, 0.1, 0.1])  # Magnetic field strengths\n",
    "\n",
    "# 5-node example\n",
    "#J_values = 1 * np.array([2, 2, 2, 5, 2, 5]) # Coupling strength\n",
    "#h_values = 1 * np.array([0.2, 0.2, 0.2, 0.2, 0.2, 0.2, 0.2, 0.2, 0.2, 0.2, 0.2, 0.2, 0.2])  # Magnetic field strengths\n",
    "\n",
    "# 6-node example (takes too long!)\n",
    "#J_values = np.array([1, 1, 1, 1, 1, 1, 1, 1, 1, 1]) # Coupling strength\n",
    "#h_values = np.array([1, 1, 1, 1, 1, 1, 1, 1, 1, 1, 1, 1, 1, 1, 1, 1, 1, 1, 1])  # Magnetic field strengths\n",
    "\n",
    "coupler_indices = create_sub_vectors(h_values)\n",
    "print_pyramid(coupler_indices)\n",
    "print(\"\")\n",
    "\n",
    "HamiltonVal = qt.Qobj()\n",
    "HamiltonVal = calc_LHZ_Ham(J_values, h_values, coupler_indices)\n",
    "binary_string = correct_state_evaluation(h_values, HamiltonVal, coupler_indices)\n",
    "\n",
    "print(\"The correct states:\", len(binary_string))\n",
    "print (binary_string)"
   ]
  }
 ],
 "metadata": {
  "kernelspec": {
   "display_name": "myQuantum",
   "language": "python",
   "name": "python3"
  },
  "language_info": {
   "codemirror_mode": {
    "name": "ipython",
    "version": 3
   },
   "file_extension": ".py",
   "mimetype": "text/x-python",
   "name": "python",
   "nbconvert_exporter": "python",
   "pygments_lexer": "ipython3",
   "version": "3.10.9"
  },
  "orig_nbformat": 4
 },
 "nbformat": 4,
 "nbformat_minor": 2
}
